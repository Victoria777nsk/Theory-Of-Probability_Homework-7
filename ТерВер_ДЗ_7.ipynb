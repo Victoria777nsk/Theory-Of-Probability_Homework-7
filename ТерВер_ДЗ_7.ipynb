{
 "cells": [
  {
   "cell_type": "code",
   "execution_count": 1,
   "id": "5431a4ed",
   "metadata": {},
   "outputs": [],
   "source": [
    "import numpy as np\n",
    "import scipy.stats as stats"
   ]
  },
  {
   "cell_type": "code",
   "execution_count": 2,
   "id": "8baa0dc1",
   "metadata": {},
   "outputs": [],
   "source": [
    "# Задача 1. Даны две независимые выборки. Не соблюдается условие нормальности\n",
    "# x1 380, 420, 290\n",
    "# y1 140, 360, 200, 900\n",
    "# Сделайте вывод по результатам, полученным с помощью функции, имеются ли статистические различия между группами?"
   ]
  },
  {
   "cell_type": "code",
   "execution_count": 3,
   "id": "407b8e54",
   "metadata": {},
   "outputs": [
    {
     "data": {
      "text/plain": [
       "MannwhitneyuResult(statistic=8.0, pvalue=0.6285714285714286)"
      ]
     },
     "execution_count": 3,
     "metadata": {},
     "output_type": "execute_result"
    }
   ],
   "source": [
    "x1 = np.array([380, 420, 290])\n",
    "y1 = np.array([140, 360, 200, 900])\n",
    "\n",
    "stats.mannwhitneyu(x1, y1)"
   ]
  },
  {
   "cell_type": "code",
   "execution_count": 4,
   "id": "649b95ba",
   "metadata": {},
   "outputs": [],
   "source": [
    "# P-value > alpha => H0 - не отвергается с ошибкой alpha = 0.05, статистически значимых различий нет."
   ]
  },
  {
   "cell_type": "code",
   "execution_count": 5,
   "id": "5b385183",
   "metadata": {},
   "outputs": [],
   "source": [
    "# Задача 2. Исследовалось влияние препарата на уровень давления пациентов. Сначала измерялось давление до приема препарата, \n",
    "# потом через 10 минут и через 30 минут. Есть ли статистически значимые различия между измерениями давления? \n",
    "# В выборках не соблюдается условие нормальности.\n",
    "# 1-е измерение до приема препарата: 150, 160, 165, 145, 155\n",
    "# 2-е измерение через 10 минут: 140, 155, 150, 130, 135\n",
    "# 3-е измерение через 30 минут: 130, 130, 120, 130, 125"
   ]
  },
  {
   "cell_type": "code",
   "execution_count": 6,
   "id": "8c4dc13a",
   "metadata": {},
   "outputs": [
    {
     "data": {
      "text/plain": [
       "FriedmanchisquareResult(statistic=9.578947368421062, pvalue=0.00831683351100441)"
      ]
     },
     "execution_count": 6,
     "metadata": {},
     "output_type": "execute_result"
    }
   ],
   "source": [
    "x1 = np.array([150, 160, 165, 145, 155])\n",
    "x2 = np.array([140, 155, 150, 130, 135])\n",
    "x3 = np.array([130, 130, 120, 130, 125])\n",
    "\n",
    "stats.friedmanchisquare(x1, x2, x3)"
   ]
  },
  {
   "cell_type": "code",
   "execution_count": 7,
   "id": "b2dadf00",
   "metadata": {},
   "outputs": [],
   "source": [
    "# P-value < alpha => H0 - отвергается с ошибкой alpha = 0.05, принимается гипотеза Н1 - различия есть. Препарат работает."
   ]
  },
  {
   "cell_type": "code",
   "execution_count": 8,
   "id": "1825abc3",
   "metadata": {},
   "outputs": [],
   "source": [
    "# Задача 3. Сравните 1 и 2 е измерения, предполагая, что 3го измерения через 30 минут не было. Есть \n",
    "# ли статистически значимые различия между измерениями давления?"
   ]
  },
  {
   "cell_type": "code",
   "execution_count": 9,
   "id": "53b39923",
   "metadata": {},
   "outputs": [
    {
     "data": {
      "text/plain": [
       "WilcoxonResult(statistic=0.0, pvalue=0.0625)"
      ]
     },
     "execution_count": 9,
     "metadata": {},
     "output_type": "execute_result"
    }
   ],
   "source": [
    "x1 = np.array([150, 160, 165, 145, 155])\n",
    "x2 = np.array([140, 155, 150, 130, 135])\n",
    "\n",
    "stats.wilcoxon(x1, x2)"
   ]
  },
  {
   "cell_type": "code",
   "execution_count": 10,
   "id": "10e292a8",
   "metadata": {},
   "outputs": [],
   "source": [
    "# P-value > alpha => H0 - не отвергается с ошибкой alpha = 0.05, статистически значимых различий нет. Препарат не работает."
   ]
  },
  {
   "cell_type": "code",
   "execution_count": 11,
   "id": "d22190f6",
   "metadata": {},
   "outputs": [],
   "source": [
    "# Задача 4. Даны 3 группы учеников плавания. Не соблюдается условие нормальности.\n",
    "# В 1 группе время на дистанцию 50 м составляют: 56, 60, 62, 55, 71, 67, 59, 58, 64, 67\n",
    "# Вторая группа : 57, 58, 69, 48, 72, 70, 68, 71, 50, 53\n",
    "# Третья группа: 57, 67, 49, 48, 47, 55, 66, 51, 54\n",
    "# Есть ли статистически значимые различия между группами?"
   ]
  },
  {
   "cell_type": "code",
   "execution_count": 12,
   "id": "cd7fd44c",
   "metadata": {},
   "outputs": [
    {
     "data": {
      "text/plain": [
       "KruskalResult(statistic=5.465564058257224, pvalue=0.0650380998590494)"
      ]
     },
     "execution_count": 12,
     "metadata": {},
     "output_type": "execute_result"
    }
   ],
   "source": [
    "x1 = np.array([56, 60, 62, 55, 71, 67, 59, 58, 64, 67])\n",
    "x2 = np.array([57, 58, 69, 48, 72, 70, 68, 71, 50, 53])\n",
    "x3 = np.array([57, 67, 49, 48, 47, 55, 66, 51, 54])\n",
    "\n",
    "stats.kruskal(x1, x2, x3)"
   ]
  },
  {
   "cell_type": "code",
   "execution_count": 13,
   "id": "1860d867",
   "metadata": {},
   "outputs": [],
   "source": [
    "# P-value > alpha => H0 - не отвергается с ошибкой alpha = 0.05, различий нет, группы статистически равны."
   ]
  },
  {
   "cell_type": "code",
   "execution_count": 14,
   "id": "89ed49bc",
   "metadata": {},
   "outputs": [],
   "source": [
    "# Задача 5. Заявляется, что партия изготавливается со средним арифметическим 2,5 см. Проверить данную гипотезу, \n",
    "# если известно, что размеры изделий подчинены нормальному закону распределения. \n",
    "# Объем выборки 10, уровень статистической значимости 5%: 2.51, 2.35, 2.74, 2.56, 2.40, 2.36, 2.65, 2.7, 2.67, 2.34"
   ]
  },
  {
   "cell_type": "code",
   "execution_count": 15,
   "id": "c19e0495",
   "metadata": {},
   "outputs": [],
   "source": [
    "# H0: средний размер изделий = 2,5 см.\n",
    "# H1: средний размер изделий НЕ= 2,5 см."
   ]
  },
  {
   "cell_type": "code",
   "execution_count": 16,
   "id": "b8926c85",
   "metadata": {},
   "outputs": [
    {
     "data": {
      "text/plain": [
       "0.563061366180296"
      ]
     },
     "execution_count": 16,
     "metadata": {},
     "output_type": "execute_result"
    }
   ],
   "source": [
    "X = np.array([2.51, 2.35, 2.74, 2.56, 2.40, 2.36, 2.65, 2.7, 2.67, 2.34])\n",
    "\n",
    "mean = X.mean()\n",
    "std = X.std(ddof=1)\n",
    "\n",
    "t_fact = (mean - 2.5) / std * np.sqrt(len(X))\n",
    "t_fact"
   ]
  },
  {
   "cell_type": "code",
   "execution_count": 17,
   "id": "0b3d516f",
   "metadata": {},
   "outputs": [],
   "source": [
    "# По таблице для критерия Стьюдента находим t = 1.833 (для = 0.05 и 9 степенями свободы).\n",
    "# Так как t теоретич. > t фактич. (1.833 > 0.56) => H0 - не отвергается, изделия соответствуют заявленному размеру."
   ]
  }
 ],
 "metadata": {
  "kernelspec": {
   "display_name": "Python 3 (ipykernel)",
   "language": "python",
   "name": "python3"
  },
  "language_info": {
   "codemirror_mode": {
    "name": "ipython",
    "version": 3
   },
   "file_extension": ".py",
   "mimetype": "text/x-python",
   "name": "python",
   "nbconvert_exporter": "python",
   "pygments_lexer": "ipython3",
   "version": "3.9.13"
  }
 },
 "nbformat": 4,
 "nbformat_minor": 5
}
